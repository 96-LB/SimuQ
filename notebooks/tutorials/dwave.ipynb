{
 "cells": [
  {
   "cell_type": "code",
   "execution_count": 42,
   "metadata": {
    "collapsed": true
   },
   "outputs": [],
   "source": [
    "from simuq import QSystem\n",
    "from simuq import Qubit\n",
    "from scipy.interpolate import interp1d\n",
    "import numpy as np\n",
    "\n",
    "N = 5\n",
    "m = 5\n",
    "T = 10\n",
    "\n",
    "def anneal(H, s):\n",
    "    return lambda t: s(t) * H\n",
    "\n",
    "def schedule_to_s(schedule):\n",
    "    t_vals = [p[0] for p in schedule]\n",
    "    s_vals = [p[1] for p in schedule]\n",
    "\n",
    "    return interp1d(t_vals, s_vals)\n",
    "\n",
    "schedule = [[0,0],[400, 0.3],[640, 0.6],[800,1]]\n",
    "\n",
    "qs = QSystem()\n",
    "qubits = [Qubit(qs) for _ in range(N)]\n",
    "kinetic = sum([q.X for q in qubits])\n",
    "problem = (sum([0.5 * qubits[j].Z for j in range(N)]) + sum(\n",
    "        [0 * qubits[j].Z * qubits[k].Z for j in range(N) for k in range(N) if\n",
    "         j > k]))\n",
    "\n",
    "ht = anneal(kinetic + problem, schedule_to_s(schedule))\n",
    "qs.add_td_evolution(ht, np.linspace(0, T, m))\n",
    "\n",
    "\n"
   ]
  },
  {
   "cell_type": "code",
   "execution_count": 43,
   "outputs": [
    {
     "ename": "IndexError",
     "evalue": "list index out of range",
     "output_type": "error",
     "traceback": [
      "\u001B[0;31m---------------------------------------------------------------------------\u001B[0m",
      "\u001B[0;31mIndexError\u001B[0m                                Traceback (most recent call last)",
      "Cell \u001B[0;32mIn[43], line 5\u001B[0m\n\u001B[1;32m      1\u001B[0m \u001B[38;5;28;01mfrom\u001B[39;00m \u001B[38;5;21;01msimuq\u001B[39;00m\u001B[38;5;21;01m.\u001B[39;00m\u001B[38;5;21;01mdwave\u001B[39;00m\u001B[38;5;21;01m.\u001B[39;00m\u001B[38;5;21;01mdwave_provider\u001B[39;00m \u001B[38;5;28;01mimport\u001B[39;00m DWaveProvider\n\u001B[1;32m      3\u001B[0m qpp \u001B[38;5;241m=\u001B[39m DWaveProvider()\n\u001B[0;32m----> 5\u001B[0m \u001B[43mqpp\u001B[49m\u001B[38;5;241;43m.\u001B[39;49m\u001B[43mcompile\u001B[49m\u001B[43m(\u001B[49m\u001B[43mqs\u001B[49m\u001B[43m)\u001B[49m\n",
      "File \u001B[0;32m~/Documents/GitHub/SimuQ/src/simuq/dwave/dwave_provider.py:21\u001B[0m, in \u001B[0;36mDWaveProvider.compile\u001B[0;34m(self, qs, tol, trotter_num, verbose)\u001B[0m\n\u001B[1;32m     15\u001B[0m \u001B[38;5;28;01mdef\u001B[39;00m \u001B[38;5;21mcompile\u001B[39m(\u001B[38;5;28mself\u001B[39m,\n\u001B[1;32m     16\u001B[0m             qs,\n\u001B[1;32m     17\u001B[0m             tol\u001B[38;5;241m=\u001B[39m\u001B[38;5;241m0.01\u001B[39m,\n\u001B[1;32m     18\u001B[0m             trotter_num\u001B[38;5;241m=\u001B[39m\u001B[38;5;241m6\u001B[39m,\n\u001B[1;32m     19\u001B[0m             verbose\u001B[38;5;241m=\u001B[39m\u001B[38;5;241m0\u001B[39m):\n\u001B[1;32m     20\u001B[0m     mach \u001B[38;5;241m=\u001B[39m ising\u001B[38;5;241m.\u001B[39mgenerate_qmachine(qs\u001B[38;5;241m.\u001B[39mnum_sites)\n\u001B[0;32m---> 21\u001B[0m     layout, sol_gvars, boxes, edges \u001B[38;5;241m=\u001B[39m \u001B[43mgenerate_as\u001B[49m\u001B[43m(\u001B[49m\n\u001B[1;32m     22\u001B[0m \u001B[43m        \u001B[49m\u001B[43mqs\u001B[49m\u001B[43m,\u001B[49m\n\u001B[1;32m     23\u001B[0m \u001B[43m        \u001B[49m\u001B[43mmach\u001B[49m\u001B[43m,\u001B[49m\n\u001B[1;32m     24\u001B[0m \u001B[43m        \u001B[49m\u001B[43mtrotter_num\u001B[49m\u001B[43m,\u001B[49m\n\u001B[1;32m     25\u001B[0m \u001B[43m        \u001B[49m\u001B[43msolver\u001B[49m\u001B[38;5;241;43m=\u001B[39;49m\u001B[38;5;124;43m\"\u001B[39;49m\u001B[38;5;124;43mleast_squares\u001B[39;49m\u001B[38;5;124;43m\"\u001B[39;49m\u001B[43m,\u001B[49m\n\u001B[1;32m     26\u001B[0m \u001B[43m        \u001B[49m\u001B[43msolver_args\u001B[49m\u001B[38;5;241;43m=\u001B[39;49m\u001B[43m{\u001B[49m\u001B[38;5;124;43m\"\u001B[39;49m\u001B[38;5;124;43mtol\u001B[39;49m\u001B[38;5;124;43m\"\u001B[39;49m\u001B[43m:\u001B[49m\u001B[43m \u001B[49m\u001B[43mtol\u001B[49m\u001B[43m}\u001B[49m\u001B[43m,\u001B[49m\n\u001B[1;32m     27\u001B[0m \u001B[43m        \u001B[49m\u001B[43moverride_layout\u001B[49m\u001B[38;5;241;43m=\u001B[39;49m\u001B[38;5;28;43;01mNone\u001B[39;49;00m\u001B[43m,\u001B[49m\n\u001B[1;32m     28\u001B[0m \u001B[43m        \u001B[49m\u001B[43mverbose\u001B[49m\u001B[38;5;241;43m=\u001B[39;49m\u001B[43mverbose\u001B[49m\u001B[43m,\u001B[49m\n\u001B[1;32m     29\u001B[0m \u001B[43m    \u001B[49m\u001B[43m)\u001B[49m\n\u001B[1;32m     30\u001B[0m     \u001B[38;5;28mself\u001B[39m\u001B[38;5;241m.\u001B[39mprog \u001B[38;5;241m=\u001B[39m DwaveTranspiler\u001B[38;5;241m.\u001B[39mtranspile(sol_gvars, boxes, edges, qs\u001B[38;5;241m.\u001B[39mnum_sites)\n",
      "File \u001B[0;32m~/Documents/GitHub/SimuQ/src/simuq/solver.py:910\u001B[0m, in \u001B[0;36mgenerate_as\u001B[0;34m(qs, mach, trotter_num, solver, solver_tol, solver_args, override_layout, verbose)\u001B[0m\n\u001B[1;32m    908\u001B[0m \u001B[38;5;28;01mfor\u001B[39;00m j \u001B[38;5;129;01min\u001B[39;00m \u001B[38;5;28mrange\u001B[39m(\u001B[38;5;28mlen\u001B[39m(list_ins)):\n\u001B[1;32m    909\u001B[0m     box_ins\u001B[38;5;241m.\u001B[39mappend(ins_set[list_ins[j]])\n\u001B[0;32m--> 910\u001B[0m boxes\u001B[38;5;241m.\u001B[39mappend((box_ins, \u001B[43msol_time\u001B[49m\u001B[43m[\u001B[49m\u001B[43mevo_index\u001B[49m\u001B[43m]\u001B[49m \u001B[38;5;241m/\u001B[39m steps, sumh[k]))\n\u001B[1;32m    911\u001B[0m \u001B[38;5;28;01mfor\u001B[39;00m label \u001B[38;5;129;01min\u001B[39;00m local_ending_boxes:\n\u001B[1;32m    912\u001B[0m     edges\u001B[38;5;241m.\u001B[39mappend((label, box_label))\n",
      "\u001B[0;31mIndexError\u001B[0m: list index out of range"
     ]
    }
   ],
   "source": [
    "from simuq.dwave.dwave_provider import DWaveProvider\n",
    "\n",
    "qpp = DWaveProvider()\n",
    "\n",
    "qpp.compile(qs)\n"
   ],
   "metadata": {
    "collapsed": false
   }
  },
  {
   "cell_type": "code",
   "execution_count": null,
   "outputs": [],
   "source": [],
   "metadata": {
    "collapsed": false
   }
  }
 ],
 "metadata": {
  "kernelspec": {
   "display_name": "Python 3",
   "language": "python",
   "name": "python3"
  },
  "language_info": {
   "codemirror_mode": {
    "name": "ipython",
    "version": 2
   },
   "file_extension": ".py",
   "mimetype": "text/x-python",
   "name": "python",
   "nbconvert_exporter": "python",
   "pygments_lexer": "ipython2",
   "version": "2.7.6"
  }
 },
 "nbformat": 4,
 "nbformat_minor": 0
}
