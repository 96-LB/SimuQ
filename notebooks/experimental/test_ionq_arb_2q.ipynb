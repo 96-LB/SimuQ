{
 "cells": [
  {
   "cell_type": "code",
   "execution_count": 82,
   "id": "42b87d5f",
   "metadata": {},
   "outputs": [
    {
     "name": "stdout",
     "output_type": "stream",
     "text": [
      "The autoreload extension is already loaded. To reload it, use:\n",
      "  %reload_ext autoreload\n"
     ]
    }
   ],
   "source": [
    "%load_ext autoreload\n",
    "%autoreload 2\n",
    "import sys\n",
    "sys.path.append('../../src')"
   ]
  },
  {
   "cell_type": "code",
   "execution_count": 83,
   "id": "90795bcd",
   "metadata": {},
   "outputs": [],
   "source": [
    "from simuq.ionq_arb_2q import IonQProvider\n",
    "ionq = IonQProvider(from_file=\"../../../ionq_API_key\")"
   ]
  },
  {
   "cell_type": "code",
   "execution_count": 84,
   "id": "c18022c4",
   "metadata": {},
   "outputs": [],
   "source": [
    "from simuq import QSystem, Qubit\n",
    "import numpy as np\n",
    "import scipy as sp\n",
    "X=np.array([[0,1],[1,0]])\n",
    "Y=np.array([[0,-1j],[1j,0]])\n",
    "Z=np.array([[1,0],[0,-1]])\n"
   ]
  },
  {
   "cell_type": "code",
   "execution_count": 86,
   "id": "30978389",
   "metadata": {},
   "outputs": [
    {
     "name": "stdout",
     "output_type": "stream",
     "text": [
      "decomposable with 1 terms\n",
      "{'lang': 'json', 'name': 'test', 'target': 'qpu.aria-1', 'input': {'gateset': 'native', 'qubits': 2, 'circuit': [{'gate': 'gpi2', 'target': 0, 'phase': 0.4999997077638503}, {'gate': 'gpi2', 'target': 0, 'phase': 1.2340660554236774e-05}, {'gate': 'gpi2', 'target': 1, 'phase': 0.17619578628855945}, {'gate': 'gpi2', 'target': 1, 'phase': 0.6763461762100934}, {'gate': 'ms', 'targets': [0, 1], 'phases': [1.2340660776333959e-05, 0.17634617621008622], 'angle': 0.07117594423367994}, {'gate': 'ms', 'targets': [0, 1], 'phases': [1.2340660776357735e-05, 0.17634617621008625], 'angle': 0.07117594423367994}, {'gate': 'ms', 'targets': [0, 1], 'phases': [1.234066077638153e-05, 0.1763461762100862], 'angle': 0.07117594423367994}, {'gate': 'ms', 'targets': [0, 1], 'phases': [1.23406607764053e-05, 0.1763461762100863], 'angle': 0.07117594423367994}, {'gate': 'ms', 'targets': [0, 1], 'phases': [1.2340660776429096e-05, 0.17634617621008647], 'angle': 0.07117594423367994}, {'gate': 'gpi2', 'target': 0, 'phase': 1.2340661260001857e-05}, {'gate': 'gpi2', 'target': 0, 'phase': 0.5000249735579639}, {'gate': 'gpi2', 'target': 1, 'phase': 0.6763461762100715}, {'gate': 'gpi2', 'target': 1, 'phase': 0.17649656613168035}]}, 'noise': {'model': 'aria-1'}}\n"
     ]
    }
   ],
   "source": [
    "qs = QSystem()\n",
    "q0, q1 = Qubit(qs), Qubit(qs)\n",
    "h = q0.X*q1.Y+q0.X*q1.X*0.5\n",
    "qs.add_evolution(h, 1)\n",
    "ionq.compile(qs)\n",
    "solved_unitary=ionq.prog_obj.to_matrix()\n",
    "h1=np.kron(X,Y)+np.kron(X,X)*0.5\n",
    "ideal_unitary=sp.linalg.expm(-1j*h1)"
   ]
  },
  {
   "cell_type": "code",
   "execution_count": null,
   "id": "ba92d346",
   "metadata": {},
   "outputs": [],
   "source": [
    "qs = QSystem()\n",
    "q0, q1 = Qubit(qs), Qubit(qs)\n",
    "h = q0.X*q1.Y+q0.X*q1.X*0.5\n",
    "qs.add_evolution(h, 1)\n",
    "ionq.compile(qs)\n",
    "solved_unitary=ionq.prog_obj.to_matrix()\n",
    "h1=np.kron(X,Y)+np.kron(X,X)*0.5\n",
    "ideal_unitary=sp.linalg.expm(-1j*h1)"
   ]
  },
  {
   "cell_type": "code",
   "execution_count": 75,
   "id": "7d6b207a",
   "metadata": {},
   "outputs": [
    {
     "name": "stdout",
     "output_type": "stream",
     "text": [
      "0.0012947806457070834\n"
     ]
    }
   ],
   "source": [
    "tmp=solved_unitary@ideal_unitary.T.conj()\n",
    "tmp/=tmp[0,0]\n",
    "print(np.linalg.norm(tmp-np.eye(4)))"
   ]
  },
  {
   "cell_type": "code",
   "execution_count": 91,
   "id": "17a40c29",
   "metadata": {},
   "outputs": [
    {
     "name": "stdout",
     "output_type": "stream",
     "text": [
      "decomposable with 2 terms\n",
      "{'lang': 'json', 'name': 'test', 'target': 'qpu.aria-1', 'input': {'gateset': 'native', 'qubits': 2, 'circuit': [{'gate': 'gpi2', 'target': 0, 'phase': 0.24381047572062217}, {'gate': 'gpi2', 'target': 0, 'phase': 0.7438109692172536}, {'gate': 'gpi2', 'target': 1, 'phase': 0.22233959726032237}, {'gate': 'gpi2', 'target': 1, 'phase': 0.7223414685001649}, {'gate': 'ms', 'targets': [0, 1], 'phases': [0.24381096921778245, 0.22234146850064804], 'angle': 0.05350532404016885}, {'gate': 'gpi2', 'target': 0, 'phase': 0.8524564531662815}, {'gate': 'gpi2', 'target': 0, 'phase': 0.3524571683816219}, {'gate': 'gpi2', 'target': 1, 'phase': 0.5873397720874017}, {'gate': 'gpi2', 'target': 1, 'phase': 0.08734312001138525}, {'gate': 'ms', 'targets': [0, 1], 'phases': [0.9722673919313447, 0.9939338200716319], 'angle': 0.05357958969889427}, {'gate': 'gpi2', 'target': 0, 'phase': 0.3524571683746778}, {'gate': 'gpi2', 'target': 0, 'phase': 0.8524578835585614}, {'gate': 'gpi2', 'target': 1, 'phase': 0.08734312001425308}, {'gate': 'gpi2', 'target': 1, 'phase': 0.5873464679382365}, {'gate': 'ms', 'targets': [0, 1], 'phases': [0.24381239961700654, 0.2223481643486152], 'angle': 0.05350532404016885}, {'gate': 'gpi2', 'target': 0, 'phase': 0.8524578835684803}, {'gate': 'gpi2', 'target': 0, 'phase': 0.3524585987838208}, {'gate': 'gpi2', 'target': 1, 'phase': 0.5873464679402026}, {'gate': 'gpi2', 'target': 1, 'phase': 0.0873498158608261}, {'gate': 'ms', 'targets': [0, 1], 'phases': [0.9722688223305691, 0.9939405159162391], 'angle': 0.05357958969889427}, {'gate': 'gpi2', 'target': 0, 'phase': 0.35245859877237573}, {'gate': 'gpi2', 'target': 0, 'phase': 0.8524593139562595}, {'gate': 'gpi2', 'target': 1, 'phase': 0.08734981585348807}, {'gate': 'gpi2', 'target': 1, 'phase': 0.5873531637741116}, {'gate': 'ms', 'targets': [0, 1], 'phases': [0.24381383001623072, 0.22235486018986236], 'angle': 0.05350532404016885}, {'gate': 'gpi2', 'target': 0, 'phase': 0.8524593139297951}, {'gate': 'gpi2', 'target': 0, 'phase': 0.3524600291451355}, {'gate': 'gpi2', 'target': 1, 'phase': 0.5873531637798451}, {'gate': 'gpi2', 'target': 1, 'phase': 0.08735651170718862}, {'gate': 'ms', 'targets': [0, 1], 'phases': [0.9722702527297935, 0.9939472117642061], 'angle': 0.05357958969889427}, {'gate': 'gpi2', 'target': 0, 'phase': 0.3524600291939032}, {'gate': 'gpi2', 'target': 0, 'phase': 0.8524607444092436}, {'gate': 'gpi2', 'target': 1, 'phase': 0.08735651170237316}, {'gate': 'gpi2', 'target': 1, 'phase': 0.5873598596297165}, {'gate': 'ms', 'targets': [0, 1], 'phases': [0.24381526044691185, 0.22236155604454938], 'angle': 0.05350532404016885}, {'gate': 'gpi2', 'target': 0, 'phase': 0.8524607443978642}, {'gate': 'gpi2', 'target': 0, 'phase': 0.3524614595974763}, {'gate': 'gpi2', 'target': 1, 'phase': 0.5873598596358266}, {'gate': 'gpi2', 'target': 1, 'phase': 0.08736320755645012}, {'gate': 'ms', 'targets': [0, 1], 'phases': [0.9722716831447463, 0.9939539076121734], 'angle': 0.05357958969889427}, {'gate': 'gpi2', 'target': 0, 'phase': 0.3524614595843497}, {'gate': 'gpi2', 'target': 0, 'phase': 0.8524621747839619}, {'gate': 'gpi2', 'target': 1, 'phase': 0.08736320755200906}, {'gate': 'gpi2', 'target': 1, 'phase': 0.5873665554793525}, {'gate': 'ms', 'targets': [0, 1], 'phases': [0.24381669084613636, 0.2223682518925168], 'angle': 0.05350532404016885}, {'gate': 'gpi2', 'target': 0, 'phase': 0.8524621747583714}, {'gate': 'gpi2', 'target': 0, 'phase': 0.3524628899579837}, {'gate': 'gpi2', 'target': 1, 'phase': 0.5873665554761812}, {'gate': 'gpi2', 'target': 1, 'phase': 0.08736990339008473}, {'gate': 'ms', 'targets': [0, 1], 'phases': [0.9722731135439707, 0.9939606034534209], 'angle': 0.05357958969889427}, {'gate': 'gpi2', 'target': 0, 'phase': 0.35246289001155867}, {'gate': 'gpi2', 'target': 0, 'phase': 0.8524636052268991}, {'gate': 'gpi2', 'target': 1, 'phase': 0.08736990339091855}, {'gate': 'gpi2', 'target': 1, 'phase': 0.5873732513115419}, {'gate': 'ms', 'targets': [0, 1], 'phases': [0.24381812126108898, 0.22237494772704414], 'angle': 0.05350532404016885}, {'gate': 'gpi2', 'target': 0, 'phase': 0.8524636052074728}, {'gate': 'gpi2', 'target': 0, 'phase': 0.35246432039135667}, {'gate': 'gpi2', 'target': 1, 'phase': 0.5873732513170972}, {'gate': 'gpi2', 'target': 1, 'phase': 0.08737659923772063}, {'gate': 'ms', 'targets': [0, 1], 'phases': [0.9722745439431949, 0.993967299294668], 'angle': 0.05357958969889427}, {'gate': 'gpi2', 'target': 0, 'phase': 0.4722745439420325}, {'gate': 'gpi2', 'target': 0, 'phase': 0.9722749993373826}, {'gate': 'gpi2', 'target': 1, 'phase': 0.9939672992926223}, {'gate': 'gpi2', 'target': 1, 'phase': 0.493969833908101}]}, 'noise': {'model': 'aria-1'}}\n"
     ]
    }
   ],
   "source": [
    "qs = QSystem()\n",
    "q0, q1 = Qubit(qs), Qubit(qs)\n",
    "h = q0.X*q1.X+q0.Y*q1.Y\n",
    "qs.add_evolution(h, 1)\n",
    "ionq.compile(qs, trotter_num=6,\n",
    "        trotter_mode=1)\n",
    "solved_unitary=ionq.prog_obj.to_matrix()\n",
    "h1=np.kron(Y,Y)+np.kron(X,X)\n",
    "ideal_unitary=sp.linalg.expm(-1j*h1)"
   ]
  },
  {
   "cell_type": "code",
   "execution_count": 92,
   "id": "46f289f2",
   "metadata": {},
   "outputs": [
    {
     "name": "stdout",
     "output_type": "stream",
     "text": [
      "0.02964747253241303\n"
     ]
    }
   ],
   "source": [
    "tmp=solved_unitary@ideal_unitary.T.conj()\n",
    "tmp/=tmp[0,0]\n",
    "print(np.linalg.norm(tmp-np.eye(4)))"
   ]
  }
 ],
 "metadata": {
  "kernelspec": {
   "display_name": "Python 3 (ipykernel)",
   "language": "python",
   "name": "python3"
  },
  "language_info": {
   "codemirror_mode": {
    "name": "ipython",
    "version": 3
   },
   "file_extension": ".py",
   "mimetype": "text/x-python",
   "name": "python",
   "nbconvert_exporter": "python",
   "pygments_lexer": "ipython3",
   "version": "3.11.5"
  }
 },
 "nbformat": 4,
 "nbformat_minor": 5
}
