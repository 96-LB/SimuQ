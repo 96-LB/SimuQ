{
 "cells": [
  {
   "cell_type": "code",
   "execution_count": 1,
   "id": "42b87d5f",
   "metadata": {},
   "outputs": [],
   "source": [
    "%load_ext autoreload\n",
    "%autoreload 2\n",
    "import sys\n",
    "sys.path.append('../../src')"
   ]
  },
  {
   "cell_type": "code",
   "execution_count": 2,
   "id": "90795bcd",
   "metadata": {},
   "outputs": [],
   "source": [
    "from simuq.ionq_arb_2q import IonQProvider\n",
    "ionq = IonQProvider(from_file=\"../../../ionq_API_key\")"
   ]
  },
  {
   "cell_type": "code",
   "execution_count": 3,
   "id": "c18022c4",
   "metadata": {},
   "outputs": [],
   "source": [
    "from simuq import QSystem, Qubit\n",
    "import numpy as np\n",
    "import scipy as sp\n",
    "X=np.array([[0,1],[1,0]])\n",
    "Y=np.array([[0,-1j],[1j,0]])\n",
    "Z=np.array([[1,0],[0,-1]])\n"
   ]
  },
  {
   "cell_type": "code",
   "execution_count": 74,
   "id": "30978389",
   "metadata": {},
   "outputs": [
    {
     "name": "stdout",
     "output_type": "stream",
     "text": [
      "decomposable with 1 terms\n",
      "{'lang': 'json', 'name': 'test', 'target': 'qpu.aria-1', 'input': {'gateset': 'native', 'qubits': 2, 'circuit': [{'gate': 'gpi2', 'target': 0, 'phase': 0.5000017982642352}, {'gate': 'gpi2', 'target': 0, 'phase': 2.6632708649773206e-05}, {'gate': 'gpi2', 'target': 1, 'phase': 0.6761943481087964}, {'gate': 'gpi2', 'target': 1, 'phase': 0.6761699050725414}, {'gate': 'ms', 'targets': [0, 1], 'phases': [0.5000266327086311, 0.17616990507262167], 'angle': 0.1439250113123287}, {'gate': 'gpi2', 'target': 0, 'phase': 2.663270863113738e-05}, {'gate': 'gpi2', 'target': 0, 'phase': 1.7982668210187582e-06}, {'gate': 'gpi2', 'target': 1, 'phase': 0.6761699050727171}, {'gate': 'gpi2', 'target': 1, 'phase': 0.17619434811035276}]}, 'noise': {'model': 'aria-1'}}\n"
     ]
    }
   ],
   "source": [
    "qs = QSystem()\n",
    "q0, q1 = Qubit(qs), Qubit(qs)\n",
    "h = q0.X*q1.Y+q0.X*q1.X*0.5\n",
    "qs.add_evolution(h, 1)\n",
    "ionq.compile(qs)\n",
    "solved_unitary=ionq.prog_obj.to_matrix()\n",
    "h1=np.kron(X,Y)+np.kron(X,X)*0.5\n",
    "ideal_unitary=sp.linalg.expm(-1j*h1)"
   ]
  },
  {
   "cell_type": "code",
   "execution_count": null,
   "metadata": {},
   "outputs": [],
   "source": [
    "qs = QSystem()\n",
    "q0, q1 = Qubit(qs), Qubit(qs)\n",
    "h = q0.X*q1.Y+q0.X*q1.X*0.5\n",
    "qs.add_evolution(h, 1)\n",
    "ionq.compile(qs)\n",
    "solved_unitary=ionq.prog_obj.to_matrix()\n",
    "h1=np.kron(X,Y)+np.kron(X,X)*0.5\n",
    "ideal_unitary=sp.linalg.expm(-1j*h1)"
   ]
  },
  {
   "cell_type": "code",
   "execution_count": 75,
   "metadata": {},
   "outputs": [
    {
     "name": "stdout",
     "output_type": "stream",
     "text": [
      "0.0012947806457070834\n"
     ]
    }
   ],
   "source": [
    "tmp=solved_unitary@ideal_unitary.T.conj()\n",
    "tmp/=tmp[0,0]\n",
    "print(np.linalg.norm(tmp-np.eye(4)))"
   ]
  },
  {
   "cell_type": "code",
   "execution_count": 80,
   "id": "17a40c29",
   "metadata": {},
   "outputs": [
    {
     "name": "stdout",
     "output_type": "stream",
     "text": [
      "decomposable with 2 terms\n",
      "[[ 1.00000000e+00+0.00000000e+00j -2.85182939e-17+3.83361586e-17j]\n",
      " [-2.85182939e-17-3.83361586e-17j  1.00000000e+00+0.00000000e+00j]]\n",
      "[[1.00000000e+00+0.00000000e+00j 3.76815851e-17-1.79099649e-17j]\n",
      " [3.76815851e-17+1.79099649e-17j 1.00000000e+00+0.00000000e+00j]]\n",
      "[[ 1.00000000e+00+0.00000000e+00j -2.87954695e-17+6.59430642e-18j]\n",
      " [-2.87954695e-17-6.59430642e-18j  1.00000000e+00+0.00000000e+00j]]\n",
      "[[1.00000000e+00+0.00000000e+00j 2.70934159e-17+9.72465959e-19j]\n",
      " [2.70934159e-17-9.72465959e-19j 1.00000000e+00+0.00000000e+00j]]\n",
      "[[ 1.00000000e+00+0.00000000e+00j -2.85182939e-17+3.83361586e-17j]\n",
      " [-2.85182939e-17-3.83361586e-17j  1.00000000e+00+0.00000000e+00j]]\n",
      "[[1.00000000e+00+0.00000000e+00j 3.76815851e-17-1.79099649e-17j]\n",
      " [3.76815851e-17+1.79099649e-17j 1.00000000e+00+0.00000000e+00j]]\n",
      "[[ 1.00000000e+00+0.00000000e+00j -2.87954695e-17+6.59430642e-18j]\n",
      " [-2.87954695e-17-6.59430642e-18j  1.00000000e+00+0.00000000e+00j]]\n",
      "[[1.00000000e+00+0.00000000e+00j 2.70934159e-17+9.72465959e-19j]\n",
      " [2.70934159e-17-9.72465959e-19j 1.00000000e+00+0.00000000e+00j]]\n",
      "[[ 1.00000000e+00+0.00000000e+00j -2.85182939e-17+3.83361586e-17j]\n",
      " [-2.85182939e-17-3.83361586e-17j  1.00000000e+00+0.00000000e+00j]]\n",
      "[[1.00000000e+00+0.00000000e+00j 3.76815851e-17-1.79099649e-17j]\n",
      " [3.76815851e-17+1.79099649e-17j 1.00000000e+00+0.00000000e+00j]]\n",
      "[[ 1.00000000e+00+0.00000000e+00j -2.87954695e-17+6.59430642e-18j]\n",
      " [-2.87954695e-17-6.59430642e-18j  1.00000000e+00+0.00000000e+00j]]\n",
      "[[1.00000000e+00+0.00000000e+00j 2.70934159e-17+9.72465959e-19j]\n",
      " [2.70934159e-17-9.72465959e-19j 1.00000000e+00+0.00000000e+00j]]\n",
      "[[ 1.00000000e+00+0.00000000e+00j -2.85182939e-17+3.83361586e-17j]\n",
      " [-2.85182939e-17-3.83361586e-17j  1.00000000e+00+0.00000000e+00j]]\n",
      "[[1.00000000e+00+0.00000000e+00j 3.76815851e-17-1.79099649e-17j]\n",
      " [3.76815851e-17+1.79099649e-17j 1.00000000e+00+0.00000000e+00j]]\n",
      "[[ 1.00000000e+00+0.00000000e+00j -2.87954695e-17+6.59430642e-18j]\n",
      " [-2.87954695e-17-6.59430642e-18j  1.00000000e+00+0.00000000e+00j]]\n",
      "[[1.00000000e+00+0.00000000e+00j 2.70934159e-17+9.72465959e-19j]\n",
      " [2.70934159e-17-9.72465959e-19j 1.00000000e+00+0.00000000e+00j]]\n",
      "[[ 1.00000000e+00+0.00000000e+00j -2.85182939e-17+3.83361586e-17j]\n",
      " [-2.85182939e-17-3.83361586e-17j  1.00000000e+00+0.00000000e+00j]]\n",
      "[[1.00000000e+00+0.00000000e+00j 3.76815851e-17-1.79099649e-17j]\n",
      " [3.76815851e-17+1.79099649e-17j 1.00000000e+00+0.00000000e+00j]]\n",
      "[[ 1.00000000e+00+0.00000000e+00j -2.87954695e-17+6.59430642e-18j]\n",
      " [-2.87954695e-17-6.59430642e-18j  1.00000000e+00+0.00000000e+00j]]\n",
      "[[1.00000000e+00+0.00000000e+00j 2.70934159e-17+9.72465959e-19j]\n",
      " [2.70934159e-17-9.72465959e-19j 1.00000000e+00+0.00000000e+00j]]\n",
      "{'lang': 'json', 'name': 'test', 'target': 'qpu.aria-1', 'input': {'gateset': 'native', 'qubits': 2, 'circuit': [{'gate': 'gpi2', 'target': 0, 'phase': 0.7424921208405949}, {'gate': 'gpi2', 'target': 0, 'phase': 0.24249306088950745}, {'gate': 'gpi2', 'target': 1, 'phase': 0.295848651596128}, {'gate': 'gpi2', 'target': 1, 'phase': 0.29584801233400115}, {'gate': 'ms', 'targets': [0, 1], 'phases': [0.242493060888264, 0.295848012335101], 'angle': 0.06746441943869502}, {'gate': 'gpi2', 'target': 0, 'phase': 0.14295038783959635}, {'gate': 'gpi2', 'target': 0, 'phase': 0.6429519362558553}, {'gate': 'gpi2', 'target': 1, 'phase': 0.2958480123374543}, {'gate': 'gpi2', 'target': 1, 'phase': 0.29584737307532744}, {'gate': 'ms', 'targets': [0, 1], 'phases': [0.04576086703166826, 0.9926168435475318], 'angle': 0.06733557171455226}, {'gate': 'gpi2', 'target': 0, 'phase': 0.6429519362477818}, {'gate': 'gpi2', 'target': 0, 'phase': 0.14295348467130545}, {'gate': 'gpi2', 'target': 1, 'phase': 0.29584737307737324}, {'gate': 'gpi2', 'target': 1, 'phase': 0.2958467338152464}, {'gate': 'ms', 'targets': [0, 1], 'phases': [0.2424961577280471, 0.29584673381249665], 'angle': 0.06746441943869502}, {'gate': 'gpi2', 'target': 0, 'phase': 0.1429534846848961}, {'gate': 'gpi2', 'target': 0, 'phase': 0.6429550331229492}, {'gate': 'gpi2', 'target': 1, 'phase': 0.29584673381485}, {'gate': 'gpi2', 'target': 1, 'phase': 0.2958460945527232}, {'gate': 'ms', 'targets': [0, 1], 'phases': [0.045763963893245295, 0.9926155650227281], 'angle': 0.06733557171455226}, {'gate': 'gpi2', 'target': 0, 'phase': 0.6429550331107609}, {'gate': 'gpi2', 'target': 0, 'phase': 0.14295658153428456}, {'gate': 'gpi2', 'target': 1, 'phase': 0.2958460945531195}, {'gate': 'gpi2', 'target': 1, 'phase': 0.2958454552909927}, {'gate': 'ms', 'targets': [0, 1], 'phases': [0.24249925458962407, 0.2958454552898929], 'angle': 0.06746441943869502}, {'gate': 'gpi2', 'target': 0, 'phase': 0.14295658152844137}, {'gate': 'gpi2', 'target': 0, 'phase': 0.6429581299519651}, {'gate': 'gpi2', 'target': 1, 'phase': 0.2958454552834477}, {'gate': 'gpi2', 'target': 1, 'phase': 0.2958448160213209}, {'gate': 'ms', 'targets': [0, 1], 'phases': [0.04576706074029286, 0.9926142864880267], 'angle': 0.06733557171455226}, {'gate': 'gpi2', 'target': 0, 'phase': 0.642958129963001}, {'gate': 'gpi2', 'target': 0, 'phase': 0.1429596783937893}, {'gate': 'gpi2', 'target': 1, 'phase': 0.2958448160222672}, {'gate': 'gpi2', 'target': 1, 'phase': 0.2958441767601404}, {'gate': 'ms', 'targets': [0, 1], 'phases': [0.24250235144393628, 0.29584417676563934], 'angle': 0.06746441943869502}, {'gate': 'gpi2', 'target': 0, 'phase': 0.14295967839618728}, {'gate': 'gpi2', 'target': 0, 'phase': 0.6429612268124463}, {'gate': 'gpi2', 'target': 1, 'phase': 0.2958441767652435}, {'gate': 'gpi2', 'target': 1, 'phase': 0.29584353750311665}, {'gate': 'ms', 'targets': [0, 1], 'phases': [0.045770157587340175, 0.992613007974771], 'angle': 0.06733557171455226}, {'gate': 'gpi2', 'target': 0, 'phase': 0.6429612268097683}, {'gate': 'gpi2', 'target': 0, 'phase': 0.14296277523329193}, {'gate': 'gpi2', 'target': 1, 'phase': 0.29584353751011166}, {'gate': 'gpi2', 'target': 1, 'phase': 0.2958428982479849}, {'gate': 'ms', 'targets': [0, 1], 'phases': [0.24250544828371898, 0.2958428982518342], 'angle': 0.06746441943869502}, {'gate': 'gpi2', 'target': 0, 'phase': 0.1429627752414391}, {'gate': 'gpi2', 'target': 0, 'phase': 0.6429643236576981}, {'gate': 'gpi2', 'target': 1, 'phase': 0.2958428982470392}, {'gate': 'gpi2', 'target': 1, 'phase': 0.29584225898491234}, {'gate': 'ms', 'targets': [0, 1], 'phases': [0.04577325442712297, 0.9926117294549176], 'angle': 0.06733557171455226}, {'gate': 'gpi2', 'target': 0, 'phase': 0.5457732544268471}, {'gate': 'gpi2', 'target': 0, 'phase': 0.04577421423975755}]}, 'noise': {'model': 'aria-1'}}\n"
     ]
    }
   ],
   "source": [
    "qs = QSystem()\n",
    "q0, q1 = Qubit(qs), Qubit(qs)\n",
    "h = q0.X*q1.X+q0.Y*q1.Y\n",
    "qs.add_evolution(h, 1)\n",
    "ionq.compile(qs)\n",
    "solved_unitary=ionq.prog_obj.to_matrix()\n",
    "h1=np.kron(Y,Y)+np.kron(X,X)\n",
    "ideal_unitary=sp.linalg.expm(-1j*h1)"
   ]
  },
  {
   "cell_type": "code",
   "execution_count": 81,
   "id": "46f289f2",
   "metadata": {},
   "outputs": [
    {
     "name": "stdout",
     "output_type": "stream",
     "text": [
      "0.09075850996919053\n"
     ]
    }
   ],
   "source": [
    "tmp=solved_unitary@ideal_unitary.T.conj()\n",
    "tmp/=tmp[0,0]\n",
    "print(np.linalg.norm(tmp-np.eye(4)))"
   ]
  }
 ],
 "metadata": {
  "kernelspec": {
   "display_name": "Python 3 (ipykernel)",
   "language": "python",
   "name": "python3"
  },
  "language_info": {
   "codemirror_mode": {
    "name": "ipython",
    "version": 3
   },
   "file_extension": ".py",
   "mimetype": "text/x-python",
   "name": "python",
   "nbconvert_exporter": "python",
   "pygments_lexer": "ipython3",
   "version": "3.11.5"
  }
 },
 "nbformat": 4,
 "nbformat_minor": 5
}
