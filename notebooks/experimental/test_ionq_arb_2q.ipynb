{
 "cells": [
  {
   "cell_type": "code",
   "execution_count": 1,
   "id": "42b87d5f",
   "metadata": {},
   "outputs": [],
   "source": [
    "%load_ext autoreload\n",
    "%autoreload 2\n",
    "import sys\n",
    "sys.path.append('../../src')"
   ]
  },
  {
   "cell_type": "code",
   "execution_count": 2,
   "id": "90795bcd",
   "metadata": {},
   "outputs": [],
   "source": [
    "from simuq.ionq_arb_2q import IonQProvider\n",
    "ionq = IonQProvider(from_file=\"../../../ionq_API_key\")"
   ]
  },
  {
   "cell_type": "code",
   "execution_count": 4,
   "id": "c18022c4",
   "metadata": {},
   "outputs": [],
   "source": [
    "from simuq import QSystem, Qubit\n",
    "import numpy as np\n",
    "import scipy as sp\n",
    "X=np.array([[0,1],[1,0]])\n",
    "Y=np.array([[0,-1j],[1j,0]])\n",
    "Z=np.array([[1,0],[0,-1]])\n"
   ]
  },
  {
   "cell_type": "code",
   "execution_count": 13,
   "id": "30978389",
   "metadata": {},
   "outputs": [
    {
     "name": "stderr",
     "output_type": "stream",
     "text": [
      "/home/pengyul/SimuQ/notebooks/experimental/../../src/simuq/backends/ionq_transpiler_arb_2q.py:241: ComplexWarning: Casting complex values to real discards the imaginary part\n",
      "  bounds = np.array(\n",
      "/home/pengyul/SimuQ/notebooks/experimental/../../src/simuq/backends/ionq_transpiler_arb_2q.py:244: ComplexWarning: Casting complex values to real discards the imaginary part\n",
      "  x0 = np.random.rand(5 * i) * np.array(\n"
     ]
    },
    {
     "name": "stdout",
     "output_type": "stream",
     "text": [
      "success with  1  terms\n",
      "[[[ 1.49534878 -0.          0.        ]\n",
      "  [ 0.66874031  1.33748061  0.        ]]]\n",
      "{'lang': 'json', 'name': 'test', 'target': 'qpu.aria-1', 'input': {'gateset': 'native', 'qubits': 2, 'circuit': [{'gate': 'gpi', 'target': 0, 'phase': 0.0}, {'gate': 'ms', 'targets': [0, 1], 'phases': [0.0, 0.17620819095131351], 'angle': 0.059313545260654105}, {'gate': 'ms', 'targets': [0, 1], 'phases': [0.0, 0.17620819095131351], 'angle': 0.059313545260654105}, {'gate': 'ms', 'targets': [0, 1], 'phases': [0.0, 0.17620819095131351], 'angle': 0.059313545260654105}, {'gate': 'ms', 'targets': [0, 1], 'phases': [0.0, 0.17620819095131351], 'angle': 0.059313545260654105}, {'gate': 'ms', 'targets': [0, 1], 'phases': [0.0, 0.17620819095131351], 'angle': 0.059313545260654105}, {'gate': 'ms', 'targets': [0, 1], 'phases': [0.0, 0.17620819095131351], 'angle': 0.059313545260654105}, {'gate': 'gpi', 'target': 0, 'phase': 0.0}]}, 'noise': {'model': 'aria-1'}}\n"
     ]
    }
   ],
   "source": [
    "qs = QSystem()\n",
    "q0, q1 = Qubit(qs), Qubit(qs)\n",
    "h = q0.X*q1.Y+q0.X*q1.X*0.5\n",
    "qs.add_evolution(h, 1)\n",
    "ionq.compile(qs)\n",
    "solved_unitary=ionq.prog_obj.to_matrix()\n",
    "h1=np.kron(X,Y)+np.kron(X,X)*0.5\n",
    "ideal_unitary=sp.linalg.expm(-1j*h1)"
   ]
  },
  {
   "cell_type": "code",
   "execution_count": 16,
   "id": "ba92d346",
   "metadata": {},
   "outputs": [
    {
     "name": "stdout",
     "output_type": "stream",
     "text": [
      "success with  1  terms\n",
      "[[[1.49534878 0.         0.        ]\n",
      "  [0.66874031 1.3374806  0.        ]]]\n",
      "{'lang': 'json', 'name': 'test', 'target': 'qpu.aria-1', 'input': {'gateset': 'native', 'qubits': 2, 'circuit': [{'gate': 'gpi', 'target': 0, 'phase': 0.0}, {'gate': 'ms', 'targets': [0, 1], 'phases': [0.0, 0.17620819061167986], 'angle': 0.05931354498976071}, {'gate': 'ms', 'targets': [0, 1], 'phases': [0.0, 0.17620819061167986], 'angle': 0.05931354498976071}, {'gate': 'ms', 'targets': [0, 1], 'phases': [0.0, 0.17620819061167986], 'angle': 0.05931354498976071}, {'gate': 'ms', 'targets': [0, 1], 'phases': [0.0, 0.17620819061167986], 'angle': 0.05931354498976071}, {'gate': 'ms', 'targets': [0, 1], 'phases': [0.0, 0.17620819061167986], 'angle': 0.05931354498976071}, {'gate': 'ms', 'targets': [0, 1], 'phases': [0.0, 0.17620819061167986], 'angle': 0.05931354498976071}, {'gate': 'gpi', 'target': 0, 'phase': 0.0}]}, 'noise': {'model': 'aria-1'}}\n"
     ]
    }
   ],
   "source": [
    "qs = QSystem()\n",
    "q0, q1 = Qubit(qs), Qubit(qs)\n",
    "h = q0.X*q1.Y+q0.X*q1.X*0.5\n",
    "qs.add_evolution(h, 1)\n",
    "ionq.compile(qs)\n",
    "solved_unitary=ionq.prog_obj.to_matrix()\n",
    "h1=np.kron(X,Y)+np.kron(X,X)*0.5\n",
    "ideal_unitary=sp.linalg.expm(-1j*h1)"
   ]
  },
  {
   "cell_type": "code",
   "execution_count": 17,
   "id": "7d6b207a",
   "metadata": {},
   "outputs": [
    {
     "name": "stdout",
     "output_type": "stream",
     "text": [
      "1.4032723085703273e-08\n"
     ]
    }
   ],
   "source": [
    "tmp=solved_unitary@ideal_unitary.T.conj()\n",
    "tmp/=tmp[0,0]\n",
    "print(np.linalg.norm(tmp-np.eye(4)))"
   ]
  },
  {
   "cell_type": "code",
   "execution_count": 20,
   "id": "17a40c29",
   "metadata": {},
   "outputs": [
    {
     "name": "stdout",
     "output_type": "stream",
     "text": [
      "success with  2  terms\n",
      "[[[1.41421356e+00 0.00000000e+00 0.00000000e+00]\n",
      "  [1.41421356e+00 0.00000000e+00 0.00000000e+00]]\n",
      "\n",
      " [[5.63868020e-10 1.41421356e+00 0.00000000e+00]\n",
      "  [3.59014022e-09 1.41421356e+00 4.66818034e-10]]]\n",
      "{'lang': 'json', 'name': 'test', 'target': 'qpu.aria-1', 'input': {'gateset': 'native', 'qubits': 2, 'circuit': [{'gate': 'gpi', 'target': 0, 'phase': 0.0}, {'gate': 'gpi', 'target': 1, 'phase': 0.0}, {'gate': 'ms', 'targets': [0, 1], 'phases': [0.0, 0.0], 'angle': 0.05305164772684366}, {'gate': 'gpi', 'target': 0, 'phase': 0.0}, {'gate': 'gpi', 'target': 1, 'phase': 0.0}, {'gate': 'ms', 'targets': [0, 1], 'phases': [0.2499999999365426, 0.24999999959596728], 'angle': 0.05305164783465997}, {'gate': 'gpi', 'target': 0, 'phase': 0.0}, {'gate': 'gpi', 'target': 1, 'phase': 0.0}, {'gate': 'ms', 'targets': [0, 1], 'phases': [0.0, 0.0], 'angle': 0.05305164772684366}, {'gate': 'gpi', 'target': 0, 'phase': 0.0}, {'gate': 'gpi', 'target': 1, 'phase': 0.0}, {'gate': 'ms', 'targets': [0, 1], 'phases': [0.2499999999365426, 0.24999999959596728], 'angle': 0.05305164783465997}, {'gate': 'gpi', 'target': 0, 'phase': 0.0}, {'gate': 'gpi', 'target': 1, 'phase': 0.0}, {'gate': 'ms', 'targets': [0, 1], 'phases': [0.0, 0.0], 'angle': 0.05305164772684366}, {'gate': 'gpi', 'target': 0, 'phase': 0.0}, {'gate': 'gpi', 'target': 1, 'phase': 0.0}, {'gate': 'ms', 'targets': [0, 1], 'phases': [0.2499999999365426, 0.24999999959596728], 'angle': 0.05305164783465997}, {'gate': 'gpi', 'target': 0, 'phase': 0.0}, {'gate': 'gpi', 'target': 1, 'phase': 0.0}, {'gate': 'ms', 'targets': [0, 1], 'phases': [0.0, 0.0], 'angle': 0.05305164772684366}, {'gate': 'gpi', 'target': 0, 'phase': 0.0}, {'gate': 'gpi', 'target': 1, 'phase': 0.0}, {'gate': 'ms', 'targets': [0, 1], 'phases': [0.2499999999365426, 0.24999999959596728], 'angle': 0.05305164783465997}, {'gate': 'gpi', 'target': 0, 'phase': 0.0}, {'gate': 'gpi', 'target': 1, 'phase': 0.0}, {'gate': 'ms', 'targets': [0, 1], 'phases': [0.0, 0.0], 'angle': 0.05305164772684366}, {'gate': 'gpi', 'target': 0, 'phase': 0.0}, {'gate': 'gpi', 'target': 1, 'phase': 0.0}, {'gate': 'ms', 'targets': [0, 1], 'phases': [0.2499999999365426, 0.24999999959596728], 'angle': 0.05305164783465997}, {'gate': 'gpi', 'target': 0, 'phase': 0.0}, {'gate': 'gpi', 'target': 1, 'phase': 0.0}, {'gate': 'ms', 'targets': [0, 1], 'phases': [0.0, 0.0], 'angle': 0.05305164772684366}, {'gate': 'gpi', 'target': 0, 'phase': 0.0}, {'gate': 'gpi', 'target': 1, 'phase': 0.0}, {'gate': 'ms', 'targets': [0, 1], 'phases': [0.2499999999365426, 0.24999999959596728], 'angle': 0.05305164783465997}]}, 'noise': {'model': 'aria-1'}}\n"
     ]
    }
   ],
   "source": [
    "qs = QSystem()\n",
    "q0, q1 = Qubit(qs), Qubit(qs)\n",
    "h = q0.X*q1.X+q0.Y*q1.Y\n",
    "qs.add_evolution(h, 1)\n",
    "ionq.compile(qs, trotter_num=6,\n",
    "        trotter_mode=1)\n",
    "solved_unitary=ionq.prog_obj.to_matrix()\n",
    "h1=np.kron(Y,Y)+np.kron(X,X)\n",
    "ideal_unitary=sp.linalg.expm(-1j*h1)"
   ]
  },
  {
   "cell_type": "code",
   "execution_count": 21,
   "id": "46f289f2",
   "metadata": {},
   "outputs": [
    {
     "name": "stdout",
     "output_type": "stream",
     "text": [
      "6.9311486324817295e-09\n"
     ]
    }
   ],
   "source": [
    "tmp=solved_unitary@ideal_unitary.T.conj()\n",
    "tmp/=tmp[0,0]\n",
    "print(np.linalg.norm(tmp-np.eye(4)))"
   ]
  }
 ],
 "metadata": {
  "kernelspec": {
   "display_name": "Python 3 (ipykernel)",
   "language": "python",
   "name": "python3"
  },
  "language_info": {
   "codemirror_mode": {
    "name": "ipython",
    "version": 3
   },
   "file_extension": ".py",
   "mimetype": "text/x-python",
   "name": "python",
   "nbconvert_exporter": "python",
   "pygments_lexer": "ipython3",
   "version": "3.11.5"
  }
 },
 "nbformat": 4,
 "nbformat_minor": 5
}
