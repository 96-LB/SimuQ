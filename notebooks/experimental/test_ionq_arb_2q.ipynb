{
 "cells": [
  {
   "cell_type": "code",
   "execution_count": 9,
   "id": "42b87d5f",
   "metadata": {},
   "outputs": [
    {
     "name": "stdout",
     "output_type": "stream",
     "text": [
      "The autoreload extension is already loaded. To reload it, use:\n",
      "  %reload_ext autoreload\n"
     ]
    }
   ],
   "source": [
    "%load_ext autoreload\n",
    "%autoreload 2\n",
    "import sys\n",
    "sys.path.append('../../src')"
   ]
  },
  {
   "cell_type": "code",
   "execution_count": 10,
   "id": "90795bcd",
   "metadata": {},
   "outputs": [],
   "source": [
    "from simuq.ionq_arb_2q import IonQProvider\n",
    "ionq = IonQProvider(from_file=\"../../../ionq_API_key\")"
   ]
  },
  {
   "cell_type": "code",
   "execution_count": 26,
   "id": "c18022c4",
   "metadata": {},
   "outputs": [],
   "source": [
    "from simuq import QSystem, Qubit\n",
    "qs = QSystem()\n",
    "q0, q1 = Qubit(qs), Qubit(qs)\n",
    "# h = q0.X*q1.X+q0.Y*q1.Y+q0.Z*q1.Z\n",
    "h = q0.Z*q1.Z\n",
    "qs.add_evolution(h, 1)"
   ]
  },
  {
   "cell_type": "code",
   "execution_count": 29,
   "id": "28c83d41",
   "metadata": {},
   "outputs": [
    {
     "name": "stdout",
     "output_type": "stream",
     "text": [
      "decomposable with 1 terms\n"
     ]
    }
   ],
   "source": [
    "ionq.compile(qs)\n",
    "# ionq.run(qs)"
   ]
  },
  {
   "cell_type": "code",
   "execution_count": 30,
   "metadata": {},
   "outputs": [
    {
     "name": "stdout",
     "output_type": "stream",
     "text": [
      "{'lang': 'json', 'name': 'test', 'target': 'qpu.aria-1', 'input': {'gateset': 'native', 'qubits': 2, 'circuit': [{'gate': 'gpi2', 'target': 0, 'phase': 0.5}, {'gate': 'gpi2', 'target': 0, 'phase': 0.2500956534748797}, {'gate': 'gpi2', 'target': 1, 'phase': 0.5}, {'gate': 'gpi2', 'target': 1, 'phase': 0.250130495997301}, {'gate': 'ms', 'targets': [0, 1], 'phases': [0.20750779621999585, 0.7923194094702734], 'angle': 0.18160974525697549}, {'gate': 'gpi2', 'target': 0, 'phase': 0.1649199389651119}, {'gate': 'gpi2', 'target': 0, 'phase': 0.9148242854902322}, {'gate': 'gpi2', 'target': 1, 'phase': 0.33450832294324584}, {'gate': 'gpi2', 'target': 1, 'phase': 0.08437782694594506}]}, 'noise': {'model': 'aria-1'}}\n",
      "[[-7.81949200e-01-5.42051594e-01j  1.09234710e-04+2.12644374e-01j\n",
      "   1.00907923e-03-2.14751146e-01j -5.82991828e-02-9.78530298e-05j]\n",
      " [ 1.08540764e-01-1.82856622e-01j  9.49058323e-01-6.74742965e-02j\n",
      "   5.00671981e-02+2.98677078e-02j -1.09464349e-01+1.84761005e-01j]\n",
      " [ 1.09464349e-01+1.84761005e-01j  5.00671981e-02-2.98677078e-02j\n",
      "   4.00506748e-01-8.63052041e-01j -1.08540764e-01-1.82856622e-01j]\n",
      " [-5.82991828e-02+9.78530298e-05j -1.00907923e-03-2.14751146e-01j\n",
      "  -1.09234710e-04+2.12644374e-01j -7.84656816e-01-5.38124672e-01j]]\n"
     ]
    }
   ],
   "source": [
    "print(ionq.prog_obj.to_matrix())"
   ]
  },
  {
   "cell_type": "code",
   "execution_count": 25,
   "metadata": {},
   "outputs": [
    {
     "data": {
      "text/plain": [
       "array([[0.54030231-0.84147098j, 0.        +0.j        ,\n",
       "        0.        +0.j        , 0.        +0.j        ],\n",
       "       [0.        +0.j        , 0.54030231+0.84147098j,\n",
       "        0.        +0.j        , 0.        +0.j        ],\n",
       "       [0.        +0.j        , 0.        +0.j        ,\n",
       "        0.54030231+0.84147098j, 0.        +0.j        ],\n",
       "       [0.        +0.j        , 0.        +0.j        ,\n",
       "        0.        +0.j        , 0.54030231-0.84147098j]])"
      ]
     },
     "execution_count": 25,
     "metadata": {},
     "output_type": "execute_result"
    }
   ],
   "source": [
    "import numpy as np\n",
    "import scipy as sp\n",
    "X=np.array([[0,1],[1,0]])\n",
    "Y=np.array([[0,-1j],[1j,0]])\n",
    "Z=np.array([[1,0],[0,-1]])\n",
    "h1=np.kron(Z,Z)\n",
    "U=sp.linalg.expm(-1j*h1)\n",
    "U"
   ]
  },
  {
   "cell_type": "code",
   "execution_count": 6,
   "metadata": {},
   "outputs": [
    {
     "data": {
      "text/plain": [
       "{'lang': 'json',\n",
       " 'name': 'test',\n",
       " 'target': 'qpu.aria-1',\n",
       " 'input': {'gateset': 'native',\n",
       "  'qubits': 2,\n",
       "  'circuit': [{'gate': 'gpi2', 'target': 0, 'phase': 0.4999999999999995},\n",
       "   {'gate': 'gpi2', 'target': 0, 'phase': 0.01182638828105097},\n",
       "   {'gate': 'gpi2', 'target': 1, 'phase': 0.4999999999999997},\n",
       "   {'gate': 'gpi2', 'target': 1, 'phase': 0.011765953952034898},\n",
       "   {'gate': 'ms',\n",
       "    'targets': [0, 1],\n",
       "    'phases': [0.2392809530285659, 0.7589412344765238],\n",
       "    'angle': 0.18123594418189887},\n",
       "   {'gate': 'gpi2', 'target': 0, 'phase': 0.46673551777608013},\n",
       "   {'gate': 'gpi2', 'target': 0, 'phase': 0.2053039407219718},\n",
       "   {'gate': 'gpi2', 'target': 1, 'phase': 0.5061165150010125},\n",
       "   {'gate': 'gpi2', 'target': 1, 'phase': 0.24600079049647586},\n",
       "   {'gate': 'ms',\n",
       "    'targets': [0, 1],\n",
       "    'phases': [0.6811592049590713, 0.2220961230469551],\n",
       "    'angle': 0.18115584124113276},\n",
       "   {'gate': 'gpi2', 'target': 0, 'phase': 0.15701446919616674},\n",
       "   {'gate': 'gpi2', 'target': 0, 'phase': 0.14505825298040725},\n",
       "   {'gate': 'gpi2', 'target': 1, 'phase': 0.19819145559743345},\n",
       "   {'gate': 'gpi2', 'target': 1, 'phase': 0.7083606221930858},\n",
       "   {'gate': 'ms',\n",
       "    'targets': [0, 1],\n",
       "    'phases': [0.8698260331447053, 0.4336318516094209],\n",
       "    'angle': 0.18175435553990282},\n",
       "   {'gate': 'gpi2', 'target': 0, 'phase': 0.09459381330900697},\n",
       "   {'gate': 'gpi2', 'target': 0, 'phase': 0.8330324083201864},\n",
       "   {'gate': 'gpi2', 'target': 1, 'phase': 0.15890308102575526},\n",
       "   {'gate': 'gpi2', 'target': 1, 'phase': 0.8970836849826119}]},\n",
       " 'noise': {'model': 'aria-1'}}"
      ]
     },
     "execution_count": 6,
     "metadata": {},
     "output_type": "execute_result"
    }
   ],
   "source": [
    "ionq.prog"
   ]
  }
 ],
 "metadata": {
  "kernelspec": {
   "display_name": "Python 3 (ipykernel)",
   "language": "python",
   "name": "python3"
  },
  "language_info": {
   "codemirror_mode": {
    "name": "ipython",
    "version": 3
   },
   "file_extension": ".py",
   "mimetype": "text/x-python",
   "name": "python",
   "nbconvert_exporter": "python",
   "pygments_lexer": "ipython3",
   "version": "3.11.5"
  }
 },
 "nbformat": 4,
 "nbformat_minor": 5
}
