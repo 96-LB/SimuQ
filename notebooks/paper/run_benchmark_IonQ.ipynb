{
 "cells": [
  {
   "cell_type": "code",
   "execution_count": 3,
   "id": "983384ed",
   "metadata": {},
   "outputs": [],
   "source": [
    "import time\n",
    "from simuq.ionq import IonQProvider\n",
    "Trot = 4\n",
    "Repitition = 1\n",
    "tol = 0.5\n",
    "T = 1\n",
    "ionq=IonQProvider(from_file=\"../../../ionq_API_key\")"
   ]
  },
  {
   "cell_type": "code",
   "execution_count": 4,
   "id": "898d1252",
   "metadata": {},
   "outputs": [],
   "source": [
    "def count_gates(ionq_prog) :\n",
    "    gc1, gc2 = 0, 0\n",
    "    circ = ionq_prog['body']['circuit']\n",
    "    for d in circ :\n",
    "        if d['gate'] == 'ms' :\n",
    "            gc2 += 1\n",
    "        else :\n",
    "            gc1 += 1\n",
    "    return gc1, gc2\n",
    "\n",
    "def run_benchmark(qs):\n",
    "    n_qubits = len(qs.sites)\n",
    "    sum_time = 0\n",
    "    try:\n",
    "        for _ in range(Repitition) :\n",
    "            start_time = time.time()\n",
    "            ionq.compile(qs, backend=\"forte\",trotter_num=Trot, tol=tol,verbose=0)\n",
    "            end_time = time.time()\n",
    "            this_time = end_time - start_time\n",
    "            sum_time += this_time\n",
    "        print(f\"Avgerage compilation time for {n_qubits} qubit using SimuQ\", sum_time / Repitition)\n",
    "        print(\"Number of gates:\", count_gates(ionq.prog))\n",
    "    except:\n",
    "        print(\"Fail!\")\n"
   ]
  },
  {
   "cell_type": "code",
   "execution_count": 5,
   "id": "8ac8c0e7",
   "metadata": {},
   "outputs": [
    {
     "name": "stdout",
     "output_type": "stream",
     "text": [
      "Avgerage compilation time for 6 qubit using SimuQ 0.3815755844116211\n",
      "Number of gates: (54, 20)\n",
      "Avgerage compilation time for 32 qubit using SimuQ 28.294333457946777\n",
      "Number of gates: (288, 124)\n",
      "Fail!\n",
      "Fail!\n"
     ]
    }
   ],
   "source": [
    "from simuq.systems.benchmark.ising_chain import GenQS\n",
    "for N in [6,32,64,96]:\n",
    "    qs = GenQS(N, T, 1, 1)\n",
    "    run_benchmark(qs)"
   ]
  },
  {
   "cell_type": "code",
   "execution_count": 17,
   "id": "52e5dd87",
   "metadata": {},
   "outputs": [
    {
     "name": "stdout",
     "output_type": "stream",
     "text": [
      "Avgerage compilation time for 6 qubit using SimuQ 0.09902024269104004\n",
      "Avgerage compilation time for 12 qubit using SimuQ 1.1199064254760742\n",
      "Avgerage compilation time for 32 qubit using SimuQ 39.42328214645386\n",
      "Fail!\n"
     ]
    }
   ],
   "source": [
    "from simuq.systems.benchmark.ising_cycle import GenQS\n",
    "for N in [6,12,32,64]:\n",
    "    qs = GenQS(N, T, 1, 1)\n",
    "    run_benchmark(qs)"
   ]
  },
  {
   "cell_type": "code",
   "execution_count": null,
   "id": "c81f280c",
   "metadata": {},
   "outputs": [],
   "source": [
    "from simuq.systems.benchmark.heis_chain import GenQS\n",
    "N=32\n",
    "qs = GenQS(N, T, 1, 1)\n",
    "run_benchmark(qs)"
   ]
  },
  {
   "cell_type": "code",
   "execution_count": null,
   "id": "f14d59b1",
   "metadata": {},
   "outputs": [],
   "source": [
    "from simuq.systems.benchmark.qaoa_cycle import GenQS\n",
    "N=12\n",
    "qs = GenQS(N, 3,[1,1,1,1,1,1])\n",
    "run_benchmark(qs)"
   ]
  },
  {
   "cell_type": "code",
   "execution_count": null,
   "id": "14e7f5ba",
   "metadata": {},
   "outputs": [],
   "source": [
    "from simuq.systems.benchmark.qhd import GenQS\n",
    "N=16\n",
    "qs = GenQS(N, T, 1, 1)\n",
    "run_benchmark(qs)"
   ]
  },
  {
   "cell_type": "code",
   "execution_count": null,
   "id": "e47c2857",
   "metadata": {},
   "outputs": [],
   "source": [
    "from simuq.systems.benchmark.mis_chain import GenQS\n",
    "for N in [12,24]:\n",
    "    qs = GenQS(N)\n",
    "    run_benchmark(qs)"
   ]
  },
  {
   "cell_type": "code",
   "execution_count": null,
   "id": "f9c45265",
   "metadata": {},
   "outputs": [],
   "source": [
    "from simuq.systems.benchmark.mis_grid import GenQS\n",
    "for k in [4,5]:\n",
    "    qs = GenQS(k)\n",
    "    run_benchmark(qs)"
   ]
  },
  {
   "cell_type": "code",
   "execution_count": null,
   "id": "ff6633a5",
   "metadata": {},
   "outputs": [],
   "source": [
    "from simuq.systems.benchmark.kitaev import GenQS\n",
    "N=18\n",
    "qs = GenQS(N)\n",
    "run_benchmark(qs)"
   ]
  },
  {
   "cell_type": "code",
   "execution_count": null,
   "id": "6cf9f9cb",
   "metadata": {},
   "outputs": [],
   "source": [
    "from simuq.systems.benchmark.schwinger import GenQS\n",
    "N=10\n",
    "qs = GenQS(N)\n",
    "run_benchmark(qs)"
   ]
  },
  {
   "cell_type": "code",
   "execution_count": null,
   "id": "8a3b142a",
   "metadata": {},
   "outputs": [],
   "source": [
    "from simuq.systems.benchmark.o3nlσm import GenQS\n",
    "N=30\n",
    "qs = GenQS(N)\n",
    "run_benchmark(qs)"
   ]
  }
 ],
 "metadata": {
  "kernelspec": {
   "display_name": "Python 3 (ipykernel)",
   "language": "python",
   "name": "python3"
  },
  "language_info": {
   "codemirror_mode": {
    "name": "ipython",
    "version": 3
   },
   "file_extension": ".py",
   "mimetype": "text/x-python",
   "name": "python",
   "nbconvert_exporter": "python",
   "pygments_lexer": "ipython3",
   "version": "3.11.5"
  }
 },
 "nbformat": 4,
 "nbformat_minor": 5
}
