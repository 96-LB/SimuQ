{
 "cells": [
  {
   "cell_type": "code",
   "execution_count": 1,
   "id": "983384ed",
   "metadata": {},
   "outputs": [],
   "source": [
    "import time\n",
    "from simuq.braket import BraketProvider\n",
    "Trot = 4\n",
    "Repitition = 1\n",
    "tol = 0.5\n",
    "T = 1\n",
    "braket=BraketProvider()"
   ]
  },
  {
   "cell_type": "code",
   "execution_count": 10,
   "id": "898d1252",
   "metadata": {},
   "outputs": [],
   "source": [
    "def run_benchmark(qs):\n",
    "    n_qubits = len(qs.sites)\n",
    "    sum_time = 0\n",
    "    try:\n",
    "        for _ in range(Repitition) :\n",
    "            start_time = time.time()\n",
    "            braket.compile(qs, provider=\"quera\",device=\"Aquila\",aais=\"rydberg2d_global\",trotter_num=Trot, tol=tol,verbose=-1)\n",
    "            end_time = time.time()\n",
    "            this_time = end_time - start_time\n",
    "            sum_time += this_time\n",
    "        print(f\"Avgerage compilation time for {n_qubits} qubit using SimuQ\", sum_time / Repitition)\n",
    "    except:\n",
    "        print(\"Fail!\")"
   ]
  },
  {
   "cell_type": "code",
   "execution_count": null,
   "id": "8ac8c0e7",
   "metadata": {},
   "outputs": [],
   "source": [
    "from simuq.systems.benchmark.ising_chain import GenQS\n",
    "for N in [6,32,64,96]:\n",
    "    qs = GenQS(N, T, 1, 1)\n",
    "    run_benchmark(qs)"
   ]
  },
  {
   "cell_type": "code",
   "execution_count": null,
   "id": "52e5dd87",
   "metadata": {},
   "outputs": [],
   "source": [
    "from simuq.systems.benchmark.ising_cycle import GenQS\n",
    "for N in [6,12,32,64]:\n",
    "    qs = GenQS(N, T, 1, 1)\n",
    "    run_benchmark(qs)"
   ]
  },
  {
   "cell_type": "code",
   "execution_count": null,
   "id": "c81f280c",
   "metadata": {},
   "outputs": [],
   "source": [
    "from simuq.systems.benchmark.heis_chain import GenQS\n",
    "N=32\n",
    "qs = GenQS(N, T, 1, 1)\n",
    "run_benchmark(qs)"
   ]
  },
  {
   "cell_type": "code",
   "execution_count": null,
   "id": "f14d59b1",
   "metadata": {},
   "outputs": [],
   "source": [
    "from simuq.systems.benchmark.qaoa_cycle import GenQS\n",
    "N=12\n",
    "qs = GenQS(N, 3,[1,1,1,1,1,1])\n",
    "run_benchmark(qs)"
   ]
  },
  {
   "cell_type": "code",
   "execution_count": null,
   "id": "14e7f5ba",
   "metadata": {},
   "outputs": [],
   "source": [
    "from simuq.systems.benchmark.qhd import GenQS\n",
    "N=16\n",
    "qs = GenQS(N, T, 1, 1)\n",
    "run_benchmark(qs)"
   ]
  },
  {
   "cell_type": "code",
   "execution_count": null,
   "id": "e47c2857",
   "metadata": {},
   "outputs": [],
   "source": [
    "from simuq.systems.benchmark.mis_chain import GenQS\n",
    "for N in [12,24]:\n",
    "    qs = GenQS(N)\n",
    "    run_benchmark(qs)"
   ]
  },
  {
   "cell_type": "code",
   "execution_count": null,
   "id": "f9c45265",
   "metadata": {},
   "outputs": [],
   "source": [
    "from simuq.systems.benchmark.mis_grid import GenQS\n",
    "for k in [4,5]:\n",
    "    qs = GenQS(k)\n",
    "    run_benchmark(qs)"
   ]
  },
  {
   "cell_type": "code",
   "execution_count": null,
   "id": "ff6633a5",
   "metadata": {},
   "outputs": [],
   "source": [
    "from simuq.systems.benchmark.kitaev import GenQS\n",
    "N=18\n",
    "qs = GenQS(N)\n",
    "run_benchmark(qs)"
   ]
  },
  {
   "cell_type": "code",
   "execution_count": null,
   "id": "6cf9f9cb",
   "metadata": {},
   "outputs": [],
   "source": [
    "from simuq.systems.benchmark.schwinger import GenQS\n",
    "N=10\n",
    "qs = GenQS(N)\n",
    "run_benchmark(qs)"
   ]
  },
  {
   "cell_type": "code",
   "execution_count": null,
   "id": "8a3b142a",
   "metadata": {},
   "outputs": [],
   "source": [
    "from simuq.systems.benchmark.o3nlσm import GenQS\n",
    "N=30\n",
    "qs = GenQS(N)\n",
    "run_benchmark(qs)"
   ]
  }
 ],
 "metadata": {
  "kernelspec": {
   "display_name": "Python 3 (ipykernel)",
   "language": "python",
   "name": "python3"
  },
  "language_info": {
   "codemirror_mode": {
    "name": "ipython",
    "version": 3
   },
   "file_extension": ".py",
   "mimetype": "text/x-python",
   "name": "python",
   "nbconvert_exporter": "python",
   "pygments_lexer": "ipython3",
   "version": "3.11.5"
  }
 },
 "nbformat": 4,
 "nbformat_minor": 5
}
