{
 "cells": [
  {
   "cell_type": "code",
   "execution_count": 13,
   "metadata": {},
   "outputs": [
    {
     "name": "stdout",
     "output_type": "stream",
     "text": [
      "The autoreload extension is already loaded. To reload it, use:\n",
      "  %reload_ext autoreload\n"
     ]
    }
   ],
   "source": [
    "%load_ext autoreload\n",
    "%autoreload 2\n",
    "from simuq import QSystem\n",
    "from simuq import Qubit\n",
    "import numpy as np\n",
    "from simuq.ionq.ionq_provider import IonQProvider\n",
    "ionqp = IonQProvider(from_file=\"../../../ionq_API_key\")\n",
    "\n",
    "def GenQS(n=12, p=3):\n",
    "    qs = QSystem()\n",
    "    ql = [Qubit(qs) for i in range(n)]\n",
    "    link = [(i, (i + 1) % n) for i in range(n)]\n",
    "    if p==3:    \n",
    "        parameter_list = np.array(\n",
    "        [\n",
    "            0.5702193 * 2,\n",
    "            -0.58631086,\n",
    "            0.85160685 * 2,\n",
    "            -1.7058538,\n",
    "            0.29468536 * 2,\n",
    "            -1.132814,\n",
    "        ]\n",
    "    )/2\n",
    "    if p==2:\n",
    "        parameter_list = np.array([-3.8034,1.2438, -1.2467,-2.4899])/2\n",
    "    if p==1:\n",
    "        parameter_list = np.array([-0.7854,-2.3562])/2\n",
    "\n",
    "    for i in range(p):\n",
    "       \n",
    "        h = 0\n",
    "        for q0, q1 in link:\n",
    "            h += parameter_list[2 * i] * ql[q0].Z * ql[q1].Z\n",
    "        qs.add_evolution(h, 1)\n",
    "        h = 0\n",
    "        for q0 in range(n):\n",
    "            h += parameter_list[2 * i+1] * ql[q0].X\n",
    "        qs.add_evolution(h, 1)\n",
    "    return qs\n",
    "\n",
    "def calc_cut(count):\n",
    "    cut=0\n",
    "    n_shots=sum(count.values())\n",
    "    for key in count:\n",
    "        cut+=count[key]*calc_weight(key)/n_shots\n",
    "    return cut\n",
    "def calc_weight(key):\n",
    "    cut=0\n",
    "    for i in range(len(key)):\n",
    "        if key[i]!= key[(i+1)%len(key)]:\n",
    "            cut+=1\n",
    "    return cut"
   ]
  },
  {
   "cell_type": "code",
   "execution_count": 29,
   "metadata": {},
   "outputs": [
    {
     "name": "stdout",
     "output_type": "stream",
     "text": [
      "{'id': '096940b6-2f0f-4027-8a20-e46c8b0ce97a', 'status': 'ready', 'request': 1696879149}\n",
      "{'id': 'b5f7e154-74c5-4bd1-9eef-2b76ef5ddf82', 'status': 'ready', 'request': 1696879151}\n"
     ]
    }
   ],
   "source": [
    "from simuq.ionq.ionq_api_circuit import IonQAPICircuit\n",
    "\n",
    "state_prep = IonQAPICircuit(12)\n",
    "for i in range(12):\n",
    "    state_prep.gpi2(i, np.pi / 2)\n",
    "\n",
    "for p in [2,3]:\n",
    "    qs = GenQS(12, p)\n",
    "    ionqp.compile(\n",
    "        qs,\n",
    "        backend=\"aria-1\",\n",
    "        aais=\"heisenberg\",\n",
    "        tol=0.01,\n",
    "        trotter_num=4,\n",
    "        state_prep=state_prep,\n",
    "    )\n",
    "    ionqp.run(shots=1024)\n",
    "    # result = bp.results()\n",
    "    # print(result)\n",
    "    # print(calc_cut(result))"
   ]
  },
  {
   "cell_type": "code",
   "execution_count": null,
   "metadata": {},
   "outputs": [],
   "source": [
    "calc_cut(ionqp.results(job_id=\"2eb797d2-d655-40dd-a004-68f856aca728\"))"
   ]
  },
  {
   "cell_type": "code",
   "execution_count": 7,
   "metadata": {},
   "outputs": [
    {
     "data": {
      "text/plain": [
       "9.999709411997685"
      ]
     },
     "execution_count": 7,
     "metadata": {},
     "output_type": "execute_result"
    }
   ],
   "source": [
    "calc_cut(ionqp.results(job_id=\"096940b6-2f0f-4027-8a20-e46c8b0ce97a\"))"
   ]
  },
  {
   "cell_type": "code",
   "execution_count": 8,
   "metadata": {},
   "outputs": [
    {
     "data": {
      "text/plain": [
       "10.499928995991466"
      ]
     },
     "execution_count": 8,
     "metadata": {},
     "output_type": "execute_result"
    }
   ],
   "source": [
    "calc_cut(ionqp.results(job_id=\"b5f7e154-74c5-4bd1-9eef-2b76ef5ddf82\"))"
   ]
  },
  {
   "cell_type": "code",
   "execution_count": null,
   "metadata": {},
   "outputs": [],
   "source": [
    "{'id': '607989f8-2a73-4a75-8412-2993f332f40a', 'status': 'ready', 'request': 1696878112}\n",
    "{'id': 'db61b0cf-0e9b-4630-a45e-6525733a615f', 'status': 'ready', 'request': 1696878113}\n",
    "{'id': '655ed670-9f93-4ea4-81ee-3eeabbf8fb81', 'status': 'ready', 'request': 1696878115}"
   ]
  }
 ],
 "metadata": {
  "kernelspec": {
   "display_name": "lpy",
   "language": "python",
   "name": "python3"
  },
  "language_info": {
   "codemirror_mode": {
    "name": "ipython",
    "version": 3
   },
   "file_extension": ".py",
   "mimetype": "text/x-python",
   "name": "python",
   "nbconvert_exporter": "python",
   "pygments_lexer": "ipython3",
   "version": "3.11.5"
  },
  "orig_nbformat": 4
 },
 "nbformat": 4,
 "nbformat_minor": 2
}
