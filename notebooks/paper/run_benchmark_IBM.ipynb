{
 "cells": [
  {
   "cell_type": "code",
   "execution_count": 1,
   "id": "983384ed",
   "metadata": {},
   "outputs": [
    {
     "name": "stderr",
     "output_type": "stream",
     "text": [
      "/tmp/ipykernel_3205020/2850772374.py:14: DeprecationWarning: The ``qiskit.opflow`` module is deprecated as of qiskit-terra 0.24.0. It will be removed no earlier than 3 months after the release date. For code migration guidelines, visit https://qisk.it/opflow_migration.\n",
      "  from qiskit.opflow import PauliTrotterEvolution\n"
     ]
    }
   ],
   "source": [
    "import time\n",
    "from simuq.ibm import IBMProvider\n",
    "Trot = 4\n",
    "Repitition = 1\n",
    "tol = 0.5\n",
    "T = 1\n",
    "ibm=IBMProvider(\n",
    "    from_file=\"../../../qiskit_APIKEY\", hub=\"ibm-q-ornl\", group=\"ornl\", project=\"phy147\"\n",
    ")\n",
    "from qiskit import schedule\n",
    "from qiskit import transpile as qiskit_transpile\n",
    "from qiskit.providers.fake_provider import FakeWashington\n",
    "from qiskit import QuantumCircuit\n",
    "from qiskit.opflow import PauliTrotterEvolution"
   ]
  },
  {
   "cell_type": "code",
   "execution_count": 2,
   "id": "898d1252",
   "metadata": {},
   "outputs": [],
   "source": [
    "def run_benchmark(qs):\n",
    "    n_qubits = len(qs.sites)\n",
    "    sum_time = 0\n",
    "    try:\n",
    "        for _ in range(Repitition) :\n",
    "            start_time = time.time()\n",
    "            ibm.compile(qs, backend=\"ibmq_washington\",trotter_num=Trot, tol=tol,use_fake_backend=True,verbose=-1)\n",
    "            end_time = time.time()\n",
    "            this_time = end_time - start_time\n",
    "            sum_time += this_time\n",
    "        print(f\"Avgerage compilation time for {n_qubits} qubit using SimuQ\", sum_time / Repitition)\n",
    "        print(f\"Pulse duration for {n_qubits} qubit using SimuQ\", schedule(ibm.prog, ibm.backend).duration*0.22222*1e-3)\n",
    "    except:\n",
    "        print(\"Fail!\")\n",
    "\n",
    "    circ = QuantumCircuit(n_qubits)\n",
    "    for evo_index in range(len(qs.evos)) :\n",
    "        hamiltonian = qs.evos[evo_index][0].to_qiskit_opflow()\n",
    "        evolution_op = (T*hamiltonian).exp_i()\n",
    "        trotterized_op = PauliTrotterEvolution(\n",
    "                        trotter_mode='trotter',\n",
    "                        reps=Trot).convert(evolution_op)\n",
    "        trot_op_circ = trotterized_op.to_circuit()\n",
    "        circ = circ.compose(trot_op_circ)\n",
    "\n",
    "    qiskit_sch = schedule(qiskit_transpile(circ, FakeWashington()), FakeWashington())\n",
    "    print(f\"Pulse duration for {n_qubits} qubit using Qiskit\", qiskit_sch.duration * 0.22222 * 1e-3)"
   ]
  },
  {
   "cell_type": "code",
   "execution_count": 3,
   "id": "8ac8c0e7",
   "metadata": {},
   "outputs": [
    {
     "name": "stdout",
     "output_type": "stream",
     "text": [
      "Avgerage compilation time for 6 qubit using SimuQ 2.5197315216064453\n",
      "Pulse duration for 6 qubit using SimuQ 3.40974368\n"
     ]
    },
    {
     "name": "stderr",
     "output_type": "stream",
     "text": [
      "/tmp/ipykernel_3205020/4061900231.py:20: DeprecationWarning: The class ``qiskit.opflow.evolutions.pauli_trotter_evolution.PauliTrotterEvolution`` is deprecated as of qiskit-terra 0.24.0. It will be removed no earlier than 3 months after the release date. For code migration guidelines, visit https://qisk.it/opflow_migration.\n",
      "  trotterized_op = PauliTrotterEvolution(\n"
     ]
    },
    {
     "name": "stdout",
     "output_type": "stream",
     "text": [
      "Pulse duration for 6 qubit using Qiskit 15.7153984\n",
      "Avgerage compilation time for 32 qubit using SimuQ 37.90550637245178\n",
      "Pulse duration for 32 qubit using SimuQ 4.0355152\n",
      "Pulse duration for 32 qubit using Qiskit 46.634200320000005\n",
      "Avgerage compilation time for 64 qubit using SimuQ 193.59668517112732\n",
      "Pulse duration for 64 qubit using SimuQ 3.9786268799999998\n",
      "Pulse duration for 64 qubit using Qiskit 81.57785088\n",
      "Avgerage compilation time for 96 qubit using SimuQ 808.9349112510681\n",
      "Pulse duration for 96 qubit using SimuQ 4.19906912\n",
      "Pulse duration for 96 qubit using Qiskit 324.974528\n"
     ]
    }
   ],
   "source": [
    "from simuq.systems.benchmark.ising_chain import GenQS\n",
    "for N in [6,32,64,96]:\n",
    "    qs = GenQS(N, T, 1, 1)\n",
    "    run_benchmark(qs)"
   ]
  },
  {
   "cell_type": "code",
   "execution_count": null,
   "id": "52e5dd87",
   "metadata": {},
   "outputs": [],
   "source": [
    "from simuq.systems.benchmark.ising_cycle import GenQS\n",
    "for N in [6,12,32,64]:\n",
    "    qs = GenQS(N, T, 1, 1)\n",
    "    run_benchmark(qs)"
   ]
  },
  {
   "cell_type": "code",
   "execution_count": null,
   "id": "c81f280c",
   "metadata": {},
   "outputs": [],
   "source": [
    "from simuq.systems.benchmark.heis_chain import GenQS\n",
    "N=32\n",
    "qs = GenQS(N, T, 1, 1)\n",
    "run_benchmark(qs)"
   ]
  },
  {
   "cell_type": "code",
   "execution_count": null,
   "id": "f14d59b1",
   "metadata": {},
   "outputs": [],
   "source": [
    "from simuq.systems.benchmark.qaoa_cycle import GenQS\n",
    "N=12\n",
    "qs = GenQS(N, 3,[1,1,1,1,1,1])\n",
    "run_benchmark(qs)"
   ]
  },
  {
   "cell_type": "code",
   "execution_count": null,
   "id": "14e7f5ba",
   "metadata": {},
   "outputs": [],
   "source": [
    "from simuq.systems.benchmark.qhd import GenQS\n",
    "N=16\n",
    "qs = GenQS(N, T, 1, 1)\n",
    "run_benchmark(qs)"
   ]
  },
  {
   "cell_type": "code",
   "execution_count": null,
   "id": "e47c2857",
   "metadata": {},
   "outputs": [],
   "source": [
    "from simuq.systems.benchmark.mis_chain import GenQS\n",
    "for N in [12,24]:\n",
    "    qs = GenQS(N)\n",
    "    run_benchmark(qs)"
   ]
  },
  {
   "cell_type": "code",
   "execution_count": null,
   "id": "f9c45265",
   "metadata": {},
   "outputs": [],
   "source": [
    "from simuq.systems.benchmark.mis_grid import GenQS\n",
    "for k in [4,5]:\n",
    "    qs = GenQS(k)\n",
    "    run_benchmark(qs)"
   ]
  },
  {
   "cell_type": "code",
   "execution_count": null,
   "id": "ff6633a5",
   "metadata": {},
   "outputs": [],
   "source": [
    "from simuq.systems.benchmark.kitaev import GenQS\n",
    "N=18\n",
    "qs = GenQS(N)\n",
    "run_benchmark(qs)"
   ]
  },
  {
   "cell_type": "code",
   "execution_count": null,
   "id": "6cf9f9cb",
   "metadata": {},
   "outputs": [],
   "source": [
    "from simuq.systems.benchmark.schwinger import GenQS\n",
    "N=10\n",
    "qs = GenQS(N)\n",
    "run_benchmark(qs)"
   ]
  },
  {
   "cell_type": "code",
   "execution_count": null,
   "id": "8a3b142a",
   "metadata": {},
   "outputs": [],
   "source": [
    "from simuq.systems.benchmark.o3nlσm import GenQS\n",
    "N=30\n",
    "qs = GenQS(N)\n",
    "run_benchmark(qs)"
   ]
  }
 ],
 "metadata": {
  "kernelspec": {
   "display_name": "Python 3 (ipykernel)",
   "language": "python",
   "name": "python3"
  },
  "language_info": {
   "codemirror_mode": {
    "name": "ipython",
    "version": 3
   },
   "file_extension": ".py",
   "mimetype": "text/x-python",
   "name": "python",
   "nbconvert_exporter": "python",
   "pygments_lexer": "ipython3",
   "version": "3.11.5"
  }
 },
 "nbformat": 4,
 "nbformat_minor": 5
}
